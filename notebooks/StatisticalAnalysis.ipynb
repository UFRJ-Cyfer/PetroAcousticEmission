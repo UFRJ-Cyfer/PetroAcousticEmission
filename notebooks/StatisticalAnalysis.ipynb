{
 "cells": [
  {
   "cell_type": "markdown",
   "metadata": {},
   "source": [
    "# Projeto: Emissão Acústica Petrobras\n",
    "## Laboratório de Processamento de Sinais - UFRJ\n",
    "## Autor: Natanael Junior (natmourajr@lps.ufrj.br)\n",
    "\n",
    "O objetivo deste notebook é a análise estatística dos dados bem como outras análise que podem ser úteis para o projeto"
   ]
  },
  {
   "cell_type": "code",
   "execution_count": 23,
   "metadata": {},
   "outputs": [],
   "source": [
    "# Carregando dados\n",
    "import scipy.io as sio\n",
    "import numpy as np\n",
    "mat_contents = sio.loadmat('../../Data/dadosCP2.mat')\n",
    "\n",
    "inputMatrix = mat_contents['inputMatrix']\n",
    "fieldNames = mat_contents['fieldNames']\n",
    "freqPower = mat_contents['power']\n",
    "normalizedfreqPower = mat_contents['normalizedPower']"
   ]
  },
  {
   "cell_type": "code",
   "execution_count": 32,
   "metadata": {},
   "outputs": [
    {
     "name": "stdout",
     "output_type": "stream",
     "text": [
      "inputMatrix:  (10, 1665)\n",
      "power:  (32768, 1665)\n",
      "normalized Power:  (32768, 1665)\n"
     ]
    }
   ],
   "source": [
    "print 'inputMatrix: ',inputMatrix.shape\n",
    "print 'power: ',freqPower.shape\n",
    "print 'normalized Power: ',normalizedfreqPower.shape\n",
    "\n"
   ]
  },
  {
   "cell_type": "code",
   "execution_count": 70,
   "metadata": {},
   "outputs": [
    {
     "data": {
      "text/plain": [
       "[Text(0,0,\"[array([u'riseTime'], dtype='<U8')]\"),\n",
       " Text(0,0,\"[array([u'count'], dtype='<U5')]\"),\n",
       " Text(0,0,\"[array([u'energy'], dtype='<U6')]\"),\n",
       " Text(0,0,\"[array([u'duration'], dtype='<U8')]\"),\n",
       " Text(0,0,\"[array([u'maxAmplitudeDB'], dtype='<U14')]\"),\n",
       " Text(0,0,\"[array([u'resolutionLevelCount'], dtype='<U20')]\"),\n",
       " Text(0,0,\"[array([u'countToPeak'], dtype='<U11')]\"),\n",
       " Text(0,0,\"[array([u'reverberationFrequency'], dtype='<U22')]\"),\n",
       " Text(0,0,\"[array([u'maxAmplitude'], dtype='<U12')]\"),\n",
       " Text(0,0,\"[array([u'threshold'], dtype='<U9')]\")]"
      ]
     },
     "execution_count": 70,
     "metadata": {},
     "output_type": "execute_result"
    },
    {
     "data": {
      "image/png": "[encoded data removed]",
      "text/plain": [
       "<Figure size 720x720 with 2 Axes>"
      ]
     },
     "metadata": {},
     "output_type": "display_data"
    }
   ],
   "source": [
    "import matplotlib.pyplot as plt\n",
    "%matplotlib inline\n",
    "\n",
    "#data = np.concatenate((inputMatrix,freqPower),axis=0)\n",
    "data = inputMatrix\n",
    "cm = np.corrcoef(data)\n",
    "\n",
    "fig = plt.figure(figsize=(10,10))\n",
    "ax = fig.add_subplot(111)\n",
    "im = ax.imshow(cm, interpolation='nearest', cmap=plt.cm.Greys,clim=(0.0, 1.0))\n",
    "\n",
    "fig.colorbar(im)\n",
    "\n",
    "ax.set_title('Confusion Matrix',fontweight='bold',fontsize=15)\n",
    "tick_marks = np.arange(len(fieldNames))\n",
    "ax.xaxis.set_ticks(tick_marks)\n",
    "ax.xaxis.set_ticklabels(fieldNames)"
   ]
  },
  {
   "cell_type": "code",
   "execution_count": 80,
   "metadata": {},
   "outputs": [
    {
     "data": {
      "text/plain": [
       "u'count'"
      ]
     },
     "execution_count": 80,
     "metadata": {},
     "output_type": "execute_result"
    }
   ],
   "source": [
    "fieldNames[1][0][0]"
   ]
  }
 ],
 "metadata": {
  "kernelspec": {
   "display_name": "Python 2",
   "language": "python",
   "name": "python2"
  },
  "language_info": {
   "codemirror_mode": {
    "name": "ipython",
    "version": 2
   },
   "file_extension": ".py",
   "mimetype": "text/x-python",
   "name": "python",
   "nbconvert_exporter": "python",
   "pygments_lexer": "ipython2",
   "version": "2.7.12"
  }
 },
 "nbformat": 4,
 "nbformat_minor": 2
}
